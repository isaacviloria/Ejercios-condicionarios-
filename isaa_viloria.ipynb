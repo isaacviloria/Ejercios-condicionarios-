{
  "nbformat": 4,
  "nbformat_minor": 0,
  "metadata": {
    "colab": {
      "provenance": [],
      "authorship_tag": "ABX9TyOOvMMzcVuGOLfYbyTnJCzk",
      "include_colab_link": true
    },
    "kernelspec": {
      "name": "python3",
      "display_name": "Python 3"
    },
    "language_info": {
      "name": "python"
    }
  },
  "cells": [
    {
      "cell_type": "markdown",
      "metadata": {
        "id": "view-in-github",
        "colab_type": "text"
      },
      "source": [
        "<a href=\"https://colab.research.google.com/github/isaacviloria/Ejercios-condicionarios-/blob/main/isaa_viloria.ipynb\" target=\"_parent\"><img src=\"https://colab.research.google.com/assets/colab-badge.svg\" alt=\"Open In Colab\"/></a>"
      ]
    },
    {
      "cell_type": "markdown",
      "source": [
        "ISAAC DAVID VILORIA ARGEL\n",
        "\n",
        "Algoritmo\n",
        "1. presentado por Isaac Viloria 0005232573\n",
        "\n",
        "Problema: Cálculo del Precio de Boletas en el Cine\n",
        "\n",
        "*  **Descripción del problema:**\n",
        " Un cine local ofrece promociones en las entradas según el horario de la función. Las reglas para determinar el costo de las entradas son las siguientes:\n",
        "\n",
        "Para cualquier función antes de las 6:00 p.m., las entradas tienen los siguientes precios:\n",
        "\n",
        "* Niños: $5,000 COP.\n",
        "* Adultos: $7,500 COP.\n",
        "\n",
        "entrada general: 10000 cop por persona.\n",
        "\n",
        "Además, si el total de la compra supera los $50,000 COP, el cine regala una crispeta familiar.\n",
        "\n",
        "\n",
        "Para funciones después de las 6:00 p.m., el precio de la entrada es general:\n",
        "Entrada general: $10,000 COP por persona.\n",
        "\n",
        "* **Entradas del problema:**\n",
        "\n",
        "* num_ninos: número de niños en el grupo.\n",
        "* num_adultos: número de adultos en el grupo.\n",
        "* hora_funcion: hora de la función en formato de 24 horas (por ejemplo, 14 para las 2 p.m., 19 para las 7 p.m.).\n",
        "\n",
        "* **Salidas esperadas:**\n",
        "* El total a pagar por las entradas.\n",
        "* Si se obtiene o no la crispeta familiar.\n",
        "\n"
      ],
      "metadata": {
        "id": "y-BVuVrD6Shv"
      }
    },
    {
      "cell_type": "markdown",
      "source": [
        "### algoritmo para optener el total a pagar en el cin\n",
        "1. inicio\n",
        "2. optener el numero de niños que entra en la funcion\n",
        "3. obtener el numero de afdultos que entran en la funcion\n",
        "4. obtener la hora de la fguncion {0-24)\n",
        "5. determinar el total dependiendo de la hora de la funcion\n",
        "\n",
        ". si la hora es menor a 18, entoces : total =num-nimos*5000 + num-adultos+7500\n",
        ". si la hora es mayor o igual a 18, entoces: total=(num-nimos + num-adultos)+10000\n",
        "\n",
        "6. mostrar a pagar\n",
        "7. si el total es mayor a $50000, indicar que se han ganado una crispeta gratis\n",
        "8. finalizar\n"
      ],
      "metadata": {
        "id": "OepJRyIh96zs"
      }
    },
    {
      "cell_type": "markdown",
      "source": [
        " * Pseudocódigo\n",
        "\n",
        "Program calcularEntradasCine\n",
        "Start\n",
        "  // Programa para calcular el total de las entradas a cine\n",
        "  Declare Int num_ninos\n",
        "  Declare Int num_adultos\n",
        "  Declare Int hora\n",
        "  Declare Float total\n",
        "\n",
        "  Display \"Ingrese el número de niños: \"\n",
        "  Input num_ninos\n",
        "  Display \"Ingrese el número de adultos: \"\n",
        "  Input num_adultos\n",
        "  Display \"Ingrese la hora de la función (0 - 23): \"\n",
        "  Input hora\n",
        "  \n",
        "  // Determinar el total a pagar dependiendo de la hora de la función\n",
        "  If hora < 18 Then\n",
        "    total = num_ninos * 5000 + num_adultos * 7500\n",
        "  Else\n",
        "    total = (num_ninos + num_adultos) * 10000\n",
        "  End If\n",
        "  \n",
        "  Display \"El total a pagar es \", total\n",
        "\n",
        "  // Determinar si el grupo se gana unas crispetas\n",
        "  If total > 50000 Then\n",
        "    Display \"Se ha ganado unas crispetas familiar.\"\n",
        "  End If\n",
        "  \n",
        "  Display \"Disfrute de la función :)\"\n",
        "  \n",
        "\n",
        "   \n",
        "  End\n"
      ],
      "metadata": {
        "id": "v4t2pdgbCeRs"
      }
    },
    {
      "cell_type": "code",
      "source": [
        "num_ninos = int(input(\"Ingrese el número de niños: \"))\n",
        "num_adultos = int(input(\"Ingrese el número de adultos: \"))\n",
        "hora = int(input(\"Ingrese la hora de la función (0 - 23): \"))\n",
        "\n",
        "if hora < 18:\n",
        "  total = num_ninos * 5000 + num_adultos * 7500\n",
        "else:\n",
        "  total = (num_ninos + num_adultos) * 10000\n",
        "\n",
        "print(\"El total a pagar es $\", total)\n",
        "\n",
        "if total > 50000:\n",
        "  print(\"Se ha ganado unas crispetas familiar.\")\n",
        "\n",
        "print(\"Disfrute de la función :)\")"
      ],
      "metadata": {
        "id": "FeXIyzlzC63b"
      },
      "execution_count": null,
      "outputs": []
    },
    {
      "cell_type": "code",
      "source": [],
      "metadata": {
        "id": "PznLiesuDH0x"
      },
      "execution_count": null,
      "outputs": []
    }
  ]
}